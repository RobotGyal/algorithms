{
  "nbformat": 4,
  "nbformat_minor": 0,
  "metadata": {
    "colab": {
      "name": "Towers of Hanoi.ipynb",
      "provenance": [],
      "authorship_tag": "ABX9TyPCvYmt4rfcsLEvcFqOF/HY",
      "include_colab_link": true
    },
    "kernelspec": {
      "name": "python3",
      "display_name": "Python 3"
    }
  },
  "cells": [
    {
      "cell_type": "markdown",
      "metadata": {
        "id": "view-in-github",
        "colab_type": "text"
      },
      "source": [
        "<a href=\"https://colab.research.google.com/github/RobotGyal/algorithms/blob/master/Towers_of_Hanoi.ipynb\" target=\"_parent\"><img src=\"https://colab.research.google.com/assets/colab-badge.svg\" alt=\"Open In Colab\"/></a>"
      ]
    },
    {
      "cell_type": "code",
      "metadata": {
        "colab": {
          "base_uri": "https://localhost:8080/"
        },
        "id": "GFYRNJMZeuTm",
        "outputId": "ef9c390a-0d80-4b2b-fbf2-d20145afdf67"
      },
      "source": [
        "def towers(n, orig, aux, dest):\r\n",
        "  if (n==1):\r\n",
        "    print('Moved disk {} from {} to {}'.format(n, orig, dest))\r\n",
        "    return\r\n",
        "  towers(n-1, orig, aux, dest)\r\n",
        "  print('Moved disk {} from {} to {}'.format(n, orig, dest))\r\n",
        "  towers(n-1, aux, orig, dest)\r\n",
        "\r\n",
        "towers(3, 'A', 'B', 'C')"
      ],
      "execution_count": 11,
      "outputs": [
        {
          "output_type": "stream",
          "text": [
            "Moved disk 1 from A to C\n",
            "Moved disk 2 from A to C\n",
            "Moved disk 1 from B to C\n",
            "Moved disk 3 from A to C\n",
            "Moved disk 1 from B to C\n",
            "Moved disk 2 from B to C\n",
            "Moved disk 1 from A to C\n"
          ],
          "name": "stdout"
        }
      ]
    },
    {
      "cell_type": "code",
      "metadata": {
        "id": "o1ce90FUe62p"
      },
      "source": [
        ""
      ],
      "execution_count": null,
      "outputs": []
    }
  ]
}