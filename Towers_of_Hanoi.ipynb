{
  "nbformat": 4,
  "nbformat_minor": 0,
  "metadata": {
    "colab": {
      "name": "Towers of Hanoi.ipynb",
      "provenance": [],
      "collapsed_sections": [],
      "authorship_tag": "ABX9TyOrJn8nE1aETOb0sEXLrcnW",
      "include_colab_link": true
    },
    "kernelspec": {
      "name": "python3",
      "display_name": "Python 3"
    }
  },
  "cells": [
    {
      "cell_type": "markdown",
      "metadata": {
        "id": "view-in-github",
        "colab_type": "text"
      },
      "source": [
        "<a href=\"https://colab.research.google.com/github/RobotGyal/algorithms/blob/master/Towers_of_Hanoi.ipynb\" target=\"_parent\"><img src=\"https://colab.research.google.com/assets/colab-badge.svg\" alt=\"Open In Colab\"/></a>"
      ]
    },
    {
      "cell_type": "code",
      "metadata": {
        "colab": {
          "base_uri": "https://localhost:8080/"
        },
        "id": "GFYRNJMZeuTm",
        "outputId": "6b3ee6a7-1b43-4500-de22-9c8e97075663"
      },
      "source": [
        "def towers(n, orig, aux, dest):\r\n",
        "  if (n==1):\r\n",
        "    print('Moved disk {} from {} to {}'.format(n, orig, dest))\r\n",
        "    return\r\n",
        "  towers(n-1, orig, dest, aux)\r\n",
        "  print('Moved disk {} from {} to {}'.format(n, orig, dest))\r\n",
        "  towers(n-1, aux, orig, dest)\r\n",
        "\r\n",
        "towers(3, 'A', 'B', 'C')"
      ],
      "execution_count": 12,
      "outputs": [
        {
          "output_type": "stream",
          "text": [
            "Moved disk 1 from A to C\n",
            "Moved disk 2 from A to B\n",
            "Moved disk 1 from C to B\n",
            "Moved disk 3 from A to C\n",
            "Moved disk 1 from B to A\n",
            "Moved disk 2 from B to C\n",
            "Moved disk 1 from A to C\n"
          ],
          "name": "stdout"
        }
      ]
    },
    {
      "cell_type": "code",
      "metadata": {
        "id": "o1ce90FUe62p"
      },
      "source": [
        ""
      ],
      "execution_count": null,
      "outputs": []
    }
  ]
}